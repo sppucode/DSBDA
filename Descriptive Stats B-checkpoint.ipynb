{
 "cells": [
  {
   "cell_type": "markdown",
   "id": "8550493c-60bd-49c0-9c15-71c3f93ddec7",
   "metadata": {},
   "source": [
    "# Descriptive Statistics\t– \t\t\t\t\t\n",
    "Measures of Central Tendency and variability Perform the following operations on any open source dataset (e.g., employee_2.csv/data.csv)  \n",
    "1. Provide summary statistics (maximum, standard deviation, covaiance) for a dataset (age, salary etc.) with numeric \tvariables \n",
    "2. Grouped by one of the qualitative (categorical) variable. For example, if your categorical variable is age groups and quantitative variable is income, then provide summary statistics of income grouped by the age groups. Create a list that contains a numeric value for each response to the categorical \tvariable. \n",
    "3. Perform grouping on and display JOB_ID and it's count\n",
    "4. Show data visualization for any column\n"
   ]
  },
  {
   "cell_type": "code",
   "execution_count": 3,
   "id": "9c01ba1e-9444-4835-bc4f-113c6c1cdd3f",
   "metadata": {},
   "outputs": [],
   "source": [
    "import pandas as pd\n",
    "import numpy as np\n",
    "import matplotlib.pyplot as plt"
   ]
  },
  {
   "cell_type": "code",
   "execution_count": 4,
   "id": "430225d8-2a63-443e-afd6-e5de72ec4c7a",
   "metadata": {},
   "outputs": [
    {
     "data": {
      "text/html": [
       "<div>\n",
       "<style scoped>\n",
       "    .dataframe tbody tr th:only-of-type {\n",
       "        vertical-align: middle;\n",
       "    }\n",
       "\n",
       "    .dataframe tbody tr th {\n",
       "        vertical-align: top;\n",
       "    }\n",
       "\n",
       "    .dataframe thead th {\n",
       "        text-align: right;\n",
       "    }\n",
       "</style>\n",
       "<table border=\"1\" class=\"dataframe\">\n",
       "  <thead>\n",
       "    <tr style=\"text-align: right;\">\n",
       "      <th></th>\n",
       "      <th>Education</th>\n",
       "      <th>JoiningYear</th>\n",
       "      <th>City</th>\n",
       "      <th>PaymentTier</th>\n",
       "      <th>Age</th>\n",
       "      <th>Gender</th>\n",
       "      <th>EverBenched</th>\n",
       "      <th>ExperienceInCurrentDomain</th>\n",
       "      <th>LeaveOrNot</th>\n",
       "      <th>Salary</th>\n",
       "    </tr>\n",
       "  </thead>\n",
       "  <tbody>\n",
       "    <tr>\n",
       "      <th>0</th>\n",
       "      <td>Bachelors</td>\n",
       "      <td>2017</td>\n",
       "      <td>Bangalore</td>\n",
       "      <td>3</td>\n",
       "      <td>34</td>\n",
       "      <td>Male</td>\n",
       "      <td>No</td>\n",
       "      <td>0</td>\n",
       "      <td>0</td>\n",
       "      <td>171369.0</td>\n",
       "    </tr>\n",
       "    <tr>\n",
       "      <th>1</th>\n",
       "      <td>Bachelors</td>\n",
       "      <td>2013</td>\n",
       "      <td>Pune</td>\n",
       "      <td>1</td>\n",
       "      <td>28</td>\n",
       "      <td>Female</td>\n",
       "      <td>No</td>\n",
       "      <td>3</td>\n",
       "      <td>1</td>\n",
       "      <td>136993.0</td>\n",
       "    </tr>\n",
       "    <tr>\n",
       "      <th>2</th>\n",
       "      <td>Bachelors</td>\n",
       "      <td>2014</td>\n",
       "      <td>New Delhi</td>\n",
       "      <td>3</td>\n",
       "      <td>38</td>\n",
       "      <td>Female</td>\n",
       "      <td>No</td>\n",
       "      <td>2</td>\n",
       "      <td>0</td>\n",
       "      <td>113807.0</td>\n",
       "    </tr>\n",
       "    <tr>\n",
       "      <th>3</th>\n",
       "      <td>Masters</td>\n",
       "      <td>2016</td>\n",
       "      <td>Bangalore</td>\n",
       "      <td>3</td>\n",
       "      <td>27</td>\n",
       "      <td>Male</td>\n",
       "      <td>No</td>\n",
       "      <td>5</td>\n",
       "      <td>1</td>\n",
       "      <td>166478.0</td>\n",
       "    </tr>\n",
       "    <tr>\n",
       "      <th>4</th>\n",
       "      <td>Masters</td>\n",
       "      <td>2017</td>\n",
       "      <td>NaN</td>\n",
       "      <td>3</td>\n",
       "      <td>24</td>\n",
       "      <td>Male</td>\n",
       "      <td>Yes</td>\n",
       "      <td>2</td>\n",
       "      <td>1</td>\n",
       "      <td>393136.0</td>\n",
       "    </tr>\n",
       "  </tbody>\n",
       "</table>\n",
       "</div>"
      ],
      "text/plain": [
       "   Education  JoiningYear       City  PaymentTier  Age  Gender EverBenched  \\\n",
       "0  Bachelors         2017  Bangalore            3   34    Male          No   \n",
       "1  Bachelors         2013       Pune            1   28  Female          No   \n",
       "2  Bachelors         2014  New Delhi            3   38  Female          No   \n",
       "3    Masters         2016  Bangalore            3   27    Male          No   \n",
       "4    Masters         2017        NaN            3   24    Male         Yes   \n",
       "\n",
       "   ExperienceInCurrentDomain  LeaveOrNot    Salary  \n",
       "0                          0           0  171369.0  \n",
       "1                          3           1  136993.0  \n",
       "2                          2           0  113807.0  \n",
       "3                          5           1  166478.0  \n",
       "4                          2           1  393136.0  "
      ]
     },
     "execution_count": 4,
     "metadata": {},
     "output_type": "execute_result"
    }
   ],
   "source": [
    "dataset =pd.read_csv(\"employee_2.csv\")\n",
    "dataset.head(5)"
   ]
  },
  {
   "cell_type": "code",
   "execution_count": 5,
   "id": "701e3e3f-3e34-46e9-b4cf-1495247f6076",
   "metadata": {},
   "outputs": [
    {
     "data": {
      "text/html": [
       "<div>\n",
       "<style scoped>\n",
       "    .dataframe tbody tr th:only-of-type {\n",
       "        vertical-align: middle;\n",
       "    }\n",
       "\n",
       "    .dataframe tbody tr th {\n",
       "        vertical-align: top;\n",
       "    }\n",
       "\n",
       "    .dataframe thead th {\n",
       "        text-align: right;\n",
       "    }\n",
       "</style>\n",
       "<table border=\"1\" class=\"dataframe\">\n",
       "  <thead>\n",
       "    <tr style=\"text-align: right;\">\n",
       "      <th></th>\n",
       "      <th>JoiningYear</th>\n",
       "      <th>PaymentTier</th>\n",
       "      <th>Age</th>\n",
       "      <th>ExperienceInCurrentDomain</th>\n",
       "      <th>LeaveOrNot</th>\n",
       "      <th>Salary</th>\n",
       "    </tr>\n",
       "  </thead>\n",
       "  <tbody>\n",
       "    <tr>\n",
       "      <th>count</th>\n",
       "      <td>1807.000000</td>\n",
       "      <td>1807.000000</td>\n",
       "      <td>1807.000000</td>\n",
       "      <td>1807.000000</td>\n",
       "      <td>1807.000000</td>\n",
       "      <td>1798.000000</td>\n",
       "    </tr>\n",
       "    <tr>\n",
       "      <th>mean</th>\n",
       "      <td>2015.076923</td>\n",
       "      <td>2.695075</td>\n",
       "      <td>26.310459</td>\n",
       "      <td>3.228002</td>\n",
       "      <td>0.362479</td>\n",
       "      <td>224240.323693</td>\n",
       "    </tr>\n",
       "    <tr>\n",
       "      <th>std</th>\n",
       "      <td>1.854077</td>\n",
       "      <td>0.564248</td>\n",
       "      <td>2.142854</td>\n",
       "      <td>1.302112</td>\n",
       "      <td>0.480849</td>\n",
       "      <td>100823.365853</td>\n",
       "    </tr>\n",
       "    <tr>\n",
       "      <th>min</th>\n",
       "      <td>2012.000000</td>\n",
       "      <td>1.000000</td>\n",
       "      <td>22.000000</td>\n",
       "      <td>0.000000</td>\n",
       "      <td>0.000000</td>\n",
       "      <td>50135.000000</td>\n",
       "    </tr>\n",
       "    <tr>\n",
       "      <th>25%</th>\n",
       "      <td>2013.000000</td>\n",
       "      <td>2.000000</td>\n",
       "      <td>25.000000</td>\n",
       "      <td>2.000000</td>\n",
       "      <td>0.000000</td>\n",
       "      <td>137712.250000</td>\n",
       "    </tr>\n",
       "    <tr>\n",
       "      <th>50%</th>\n",
       "      <td>2015.000000</td>\n",
       "      <td>3.000000</td>\n",
       "      <td>26.000000</td>\n",
       "      <td>3.000000</td>\n",
       "      <td>0.000000</td>\n",
       "      <td>226605.500000</td>\n",
       "    </tr>\n",
       "    <tr>\n",
       "      <th>75%</th>\n",
       "      <td>2017.000000</td>\n",
       "      <td>3.000000</td>\n",
       "      <td>27.000000</td>\n",
       "      <td>4.000000</td>\n",
       "      <td>1.000000</td>\n",
       "      <td>309474.000000</td>\n",
       "    </tr>\n",
       "    <tr>\n",
       "      <th>max</th>\n",
       "      <td>2018.000000</td>\n",
       "      <td>3.000000</td>\n",
       "      <td>40.000000</td>\n",
       "      <td>5.000000</td>\n",
       "      <td>1.000000</td>\n",
       "      <td>399785.000000</td>\n",
       "    </tr>\n",
       "  </tbody>\n",
       "</table>\n",
       "</div>"
      ],
      "text/plain": [
       "       JoiningYear  PaymentTier          Age  ExperienceInCurrentDomain  \\\n",
       "count  1807.000000  1807.000000  1807.000000                1807.000000   \n",
       "mean   2015.076923     2.695075    26.310459                   3.228002   \n",
       "std       1.854077     0.564248     2.142854                   1.302112   \n",
       "min    2012.000000     1.000000    22.000000                   0.000000   \n",
       "25%    2013.000000     2.000000    25.000000                   2.000000   \n",
       "50%    2015.000000     3.000000    26.000000                   3.000000   \n",
       "75%    2017.000000     3.000000    27.000000                   4.000000   \n",
       "max    2018.000000     3.000000    40.000000                   5.000000   \n",
       "\n",
       "        LeaveOrNot         Salary  \n",
       "count  1807.000000    1798.000000  \n",
       "mean      0.362479  224240.323693  \n",
       "std       0.480849  100823.365853  \n",
       "min       0.000000   50135.000000  \n",
       "25%       0.000000  137712.250000  \n",
       "50%       0.000000  226605.500000  \n",
       "75%       1.000000  309474.000000  \n",
       "max       1.000000  399785.000000  "
      ]
     },
     "execution_count": 5,
     "metadata": {},
     "output_type": "execute_result"
    }
   ],
   "source": [
    "# statistics meansures\n",
    "dataset.describe()"
   ]
  },
  {
   "cell_type": "code",
   "execution_count": 6,
   "id": "84346af6-c215-42ec-90b3-014bf6c4f502",
   "metadata": {},
   "outputs": [
    {
     "data": {
      "text/html": [
       "<div>\n",
       "<style scoped>\n",
       "    .dataframe tbody tr th:only-of-type {\n",
       "        vertical-align: middle;\n",
       "    }\n",
       "\n",
       "    .dataframe tbody tr th {\n",
       "        vertical-align: top;\n",
       "    }\n",
       "\n",
       "    .dataframe thead th {\n",
       "        text-align: right;\n",
       "    }\n",
       "</style>\n",
       "<table border=\"1\" class=\"dataframe\">\n",
       "  <thead>\n",
       "    <tr style=\"text-align: right;\">\n",
       "      <th></th>\n",
       "      <th>Age</th>\n",
       "      <th>Salary</th>\n",
       "    </tr>\n",
       "  </thead>\n",
       "  <tbody>\n",
       "    <tr>\n",
       "      <th>Age</th>\n",
       "      <td>4.591823</td>\n",
       "      <td>-4.897130e+03</td>\n",
       "    </tr>\n",
       "    <tr>\n",
       "      <th>Salary</th>\n",
       "      <td>-4897.130103</td>\n",
       "      <td>1.016535e+10</td>\n",
       "    </tr>\n",
       "  </tbody>\n",
       "</table>\n",
       "</div>"
      ],
      "text/plain": [
       "                Age        Salary\n",
       "Age        4.591823 -4.897130e+03\n",
       "Salary -4897.130103  1.016535e+10"
      ]
     },
     "execution_count": 6,
     "metadata": {},
     "output_type": "execute_result"
    }
   ],
   "source": [
    "dataset[['Age', 'Salary']].cov()"
   ]
  },
  {
   "cell_type": "code",
   "execution_count": 7,
   "id": "b467e042-502b-4c3e-ac65-bc4fb941886f",
   "metadata": {},
   "outputs": [
    {
     "data": {
      "text/plain": [
       "Age_Group\n",
       "25-35    1109\n",
       "18-25     672\n",
       "35-45      26\n",
       "45-60       0\n",
       "Name: count, dtype: int64"
      ]
     },
     "execution_count": 7,
     "metadata": {},
     "output_type": "execute_result"
    }
   ],
   "source": [
    "# grouping and binning\n",
    "bins = [18, 25, 35, 45, 60]\n",
    "\n",
    "labels = ['18-25', '25-35', '35-45', '45-60']\n",
    "\n",
    "dataset['Age_Group'] = pd.cut(dataset['Age'], bins=bins, labels=labels)\n",
    "\n",
    "dataset['Age_Group'].value_counts()"
   ]
  },
  {
   "cell_type": "code",
   "execution_count": 11,
   "id": "c2635a04-5e2b-448c-b29c-99838c771db0",
   "metadata": {},
   "outputs": [
    {
     "name": "stdout",
     "output_type": "stream",
     "text": [
      "\n",
      "Grouped Salary Statistics by Age Group:\n",
      "                     mean    median       max      min            std\n",
      "Age_Group                                                           \n",
      "18-25      225847.299107  232190.0  399598.0  50135.0   98486.549117\n",
      "25-35      223991.190000  226226.0  399785.0  50214.0  102130.165925\n",
      "35-45      193246.461538  162553.5  397693.0  67213.0  103677.780964\n",
      "\n",
      "agewise_income_sum : Age_Group\n",
      "18-25    151769385.0\n",
      "25-35    246390309.0\n",
      "35-45      5024408.0\n",
      "Name: Salary, dtype: float64\n",
      "\n",
      "agewise_income_mean :  Age_Group\n",
      "18-25    225847.299107\n",
      "25-35    223991.190000\n",
      "35-45    193246.461538\n",
      "Name: Salary, dtype: float64\n",
      "\n",
      "agewise_income_median :  Age_Group\n",
      "18-25    232190.0\n",
      "25-35    226226.0\n",
      "35-45    162553.5\n",
      "Name: Salary, dtype: float64\n"
     ]
    }
   ],
   "source": [
    "# aggregations\n",
    "grouped_stats = dataset.groupby('Age_Group',observed=True)['Salary'].agg(['mean', 'median', 'max', 'min', 'std'])\n",
    "\n",
    "# grouped_stats = dataset.groupby('Age_Group')['Salary'].mean()\n",
    "\n",
    "print(\"\\nGrouped Salary Statistics by Age Group:\\n\", grouped_stats)\n",
    "\n",
    "\n",
    "agewise_income_sum = dataset.groupby('Age_Group',observed=True)['Salary'].sum()\n",
    "\n",
    "agewise_income_mean = dataset.groupby('Age_Group',observed=True)['Salary'].mean()\n",
    "\n",
    "agewise_income_median = dataset.groupby('Age_Group',observed=True)['Salary'].median()\n",
    "\n",
    "print(\"\\nagewise_income_sum :\",agewise_income_sum)\n",
    "print(\"\\nagewise_income_mean : \",agewise_income_mean)\n",
    "print(\"\\nagewise_income_median : \",agewise_income_median)"
   ]
  },
  {
   "cell_type": "code",
   "execution_count": 12,
   "id": "0258d04d-0c7e-4e11-9113-e2f7dc8b0fc6",
   "metadata": {},
   "outputs": [
    {
     "name": "stdout",
     "output_type": "stream",
     "text": [
      "\n",
      "Salary list by age group (mean): [225847.29910714287, 223991.19, 193246.46153846153]\n"
     ]
    }
   ],
   "source": [
    "# Create a list of mean salary per age group\n",
    "salary_list_by_group = agewise_income_mean.tolist()\n",
    "print(\"\\nSalary list by age group (mean):\", salary_list_by_group)"
   ]
  },
  {
   "cell_type": "code",
   "execution_count": 13,
   "id": "2ee29427-556b-4478-bbba-8112b2d406cf",
   "metadata": {},
   "outputs": [
    {
     "data": {
      "text/plain": [
       "Gender\n",
       "Male      1071\n",
       "Female     728\n",
       "Name: count, dtype: int64"
      ]
     },
     "execution_count": 13,
     "metadata": {},
     "output_type": "execute_result"
    }
   ],
   "source": [
    "#counts \n",
    "dataset.head(5)\n",
    "education = dataset['Education'].value_counts()\n",
    "dataset['JoiningYear'].value_counts()\n",
    "dataset['Gender'].value_counts()"
   ]
  },
  {
   "cell_type": "code",
   "execution_count": 14,
   "id": "55671085-cc46-4bff-9b5c-4aa5f918f727",
   "metadata": {},
   "outputs": [
    {
     "data": {
      "image/png": "[encoded data removed]",
      "text/plain": [
       "<Figure size 600x600 with 1 Axes>"
      ]
     },
     "metadata": {},
     "output_type": "display_data"
    }
   ],
   "source": [
    "#Visualization \n",
    "\n",
    "\n",
    "plt.figure(figsize=(6,6))\n",
    "\n",
    "plt.pie(education,autopct=\"%1.2f%%\",labels=education.index)\n",
    "\n",
    "plt.title(\"Education  distribution\")\n",
    "\n",
    "plt.legend()\n",
    "\n",
    "plt.show()\n"
   ]
  },
  {
   "cell_type": "code",
   "execution_count": null,
   "id": "16a83097-db5d-4d3b-9e7f-a8582fb7cbbd",
   "metadata": {},
   "outputs": [],
   "source": []
  },
  {
   "cell_type": "code",
   "execution_count": null,
   "id": "6a1f4722-82b4-479a-b0ef-07adc7303ca2",
   "metadata": {},
   "outputs": [],
   "source": []
  },
  {
   "cell_type": "code",
   "execution_count": null,
   "id": "6a75eec1-bfc7-47c1-ad26-0507f3f31270",
   "metadata": {},
   "outputs": [],
   "source": []
  }
 ],
 "metadata": {
  "kernelspec": {
   "display_name": "Python 3 (ipykernel)",
   "language": "python",
   "name": "python3"
  },
  "language_info": {
   "codemirror_mode": {
    "name": "ipython",
    "version": 3
   },
   "file_extension": ".py",
   "mimetype": "text/x-python",
   "name": "python",
   "nbconvert_exporter": "python",
   "pygments_lexer": "ipython3",
   "version": "3.12.0"
  }
 },
 "nbformat": 4,
 "nbformat_minor": 5
}
