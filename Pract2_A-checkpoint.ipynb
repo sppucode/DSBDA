{
 "cells": [
  {
   "cell_type": "markdown",
   "id": "04a6a26a-d167-4cf7-9cc2-bbf30023d4e0",
   "metadata": {},
   "source": [
    "# Data Wrangling II operations using Python. (e.g., Academic_Performance.csv)\n",
    "1. Scan all variables for missing values and inconsistencies. If there are missing values and/or inconsistencies, use any of the suitable techniques to deal with them(using mean and mode).Apply for single column and whole dataset.\n",
    "2. Scan all numeric variables for outliers. If there are outliers,any of the suitable techniques to deal with them.(using z score)\n",
    "3. Display and Remove the outliers\n",
    "4. Apply data transformations on at least one of the variables Create bins and Labels. \n",
    "5. Draw box plot\n",
    "\n",
    "\n"
   ]
  },
  {
   "cell_type": "code",
   "execution_count": 2,
   "id": "72860756-0180-40b2-8cf1-55e415870d73",
   "metadata": {},
   "outputs": [],
   "source": [
    "import pandas as pd\n",
    "import numpy as np\n",
    "import matplotlib.pyplot as plt\n",
    "import seaborn as sns"
   ]
  },
  {
   "cell_type": "code",
   "execution_count": 8,
   "id": "a23a7307-6fcf-4951-acff-dad94b079cad",
   "metadata": {},
   "outputs": [
    {
     "data": {
      "text/html": [
       "<div>\n",
       "<style scoped>\n",
       "    .dataframe tbody tr th:only-of-type {\n",
       "        vertical-align: middle;\n",
       "    }\n",
       "\n",
       "    .dataframe tbody tr th {\n",
       "        vertical-align: top;\n",
       "    }\n",
       "\n",
       "    .dataframe thead th {\n",
       "        text-align: right;\n",
       "    }\n",
       "</style>\n",
       "<table border=\"1\" class=\"dataframe\">\n",
       "  <thead>\n",
       "    <tr style=\"text-align: right;\">\n",
       "      <th></th>\n",
       "      <th>Roll No</th>\n",
       "      <th>NationalITy</th>\n",
       "      <th>WT</th>\n",
       "      <th>DSBDA</th>\n",
       "      <th>AI</th>\n",
       "      <th>Average</th>\n",
       "      <th>Grade</th>\n",
       "      <th>PG</th>\n",
       "    </tr>\n",
       "  </thead>\n",
       "  <tbody>\n",
       "    <tr>\n",
       "      <th>0</th>\n",
       "      <td>1.0</td>\n",
       "      <td>India</td>\n",
       "      <td>72.0</td>\n",
       "      <td>72.0</td>\n",
       "      <td>74.0</td>\n",
       "      <td>72.666667</td>\n",
       "      <td>C</td>\n",
       "      <td>Yes</td>\n",
       "    </tr>\n",
       "    <tr>\n",
       "      <th>1</th>\n",
       "      <td>2.0</td>\n",
       "      <td>Japan</td>\n",
       "      <td>69.0</td>\n",
       "      <td>90.0</td>\n",
       "      <td>NaN</td>\n",
       "      <td>53.000000</td>\n",
       "      <td>B</td>\n",
       "      <td>No</td>\n",
       "    </tr>\n",
       "    <tr>\n",
       "      <th>2</th>\n",
       "      <td>NaN</td>\n",
       "      <td>NaN</td>\n",
       "      <td>NaN</td>\n",
       "      <td>NaN</td>\n",
       "      <td>NaN</td>\n",
       "      <td>NaN</td>\n",
       "      <td>NaN</td>\n",
       "      <td>NaN</td>\n",
       "    </tr>\n",
       "    <tr>\n",
       "      <th>3</th>\n",
       "      <td>4.0</td>\n",
       "      <td>China</td>\n",
       "      <td>47.0</td>\n",
       "      <td>NaN</td>\n",
       "      <td>44.0</td>\n",
       "      <td>30.333333</td>\n",
       "      <td>D</td>\n",
       "      <td>Yes</td>\n",
       "    </tr>\n",
       "    <tr>\n",
       "      <th>4</th>\n",
       "      <td>5.0</td>\n",
       "      <td>India</td>\n",
       "      <td>76.0</td>\n",
       "      <td>78.0</td>\n",
       "      <td>NaN</td>\n",
       "      <td>51.333333</td>\n",
       "      <td>C</td>\n",
       "      <td>No</td>\n",
       "    </tr>\n",
       "  </tbody>\n",
       "</table>\n",
       "</div>"
      ],
      "text/plain": [
       "   Roll No NationalITy    WT  DSBDA    AI    Average Grade   PG\n",
       "0      1.0       India  72.0   72.0  74.0  72.666667     C  Yes\n",
       "1      2.0       Japan  69.0   90.0   NaN  53.000000     B   No\n",
       "2      NaN         NaN   NaN    NaN   NaN        NaN   NaN  NaN\n",
       "3      4.0       China  47.0    NaN  44.0  30.333333     D  Yes\n",
       "4      5.0       India  76.0   78.0   NaN  51.333333     C   No"
      ]
     },
     "execution_count": 8,
     "metadata": {},
     "output_type": "execute_result"
    }
   ],
   "source": [
    "dataset = pd.read_csv('AcademicPerformance_new.csv')\n",
    "\n",
    "dataset.head(5)\n"
   ]
  },
  {
   "cell_type": "code",
   "execution_count": 38,
   "id": "6586dca4-fa26-4665-b579-0794f4d8cff9",
   "metadata": {},
   "outputs": [
    {
     "data": {
      "text/plain": [
       "(99, 11)"
      ]
     },
     "execution_count": 38,
     "metadata": {},
     "output_type": "execute_result"
    }
   ],
   "source": [
    "dataset.dtypes"
   ]
  },
  {
   "cell_type": "markdown",
   "id": "c8628ef1-3cdf-41f9-abe0-fd1935a7a8cc",
   "metadata": {},
   "source": [
    "# null and missing handling"
   ]
  },
  {
   "cell_type": "code",
   "execution_count": 15,
   "id": "1c61655f-b9cc-45c5-a8fd-327c390fe058",
   "metadata": {},
   "outputs": [
    {
     "data": {
      "text/plain": [
       "Roll No        0\n",
       "NationalITy    0\n",
       "WT             0\n",
       "DSBDA          0\n",
       "AI             0\n",
       "Average        0\n",
       "Grade          0\n",
       "PG             0\n",
       "dtype: int64"
      ]
     },
     "execution_count": 15,
     "metadata": {},
     "output_type": "execute_result"
    }
   ],
   "source": [
    "dataset.isnull().sum()"
   ]
  },
  {
   "cell_type": "code",
   "execution_count": 10,
   "id": "c8bf1343-b389-4982-b81d-5e3806e1a63d",
   "metadata": {},
   "outputs": [],
   "source": [
    "# null handle for single column \n",
    "dataset['Roll No'] = dataset['Roll No'].fillna(0)"
   ]
  },
  {
   "cell_type": "code",
   "execution_count": 14,
   "id": "a82ae05b-da72-4d92-9791-61b16c01b10f",
   "metadata": {},
   "outputs": [],
   "source": [
    "for i in dataset.columns:\n",
    "    if dataset[i].dtype == 'object':\n",
    "        dataset[i] = dataset[i].fillna(dataset[i].mode()[0])\n",
    "    else:\n",
    "        dataset[i] = dataset[i].fillna(dataset[i].mean())\n"
   ]
  },
  {
   "cell_type": "code",
   "execution_count": 16,
   "id": "5e0e3ab9-0991-4864-9246-776766ca0673",
   "metadata": {},
   "outputs": [
    {
     "data": {
      "text/plain": [
       "Roll No        0\n",
       "NationalITy    0\n",
       "WT             0\n",
       "DSBDA          0\n",
       "AI             0\n",
       "Average        0\n",
       "Grade          0\n",
       "PG             0\n",
       "dtype: int64"
      ]
     },
     "execution_count": 16,
     "metadata": {},
     "output_type": "execute_result"
    }
   ],
   "source": [
    "dataset.isnull().sum()"
   ]
  },
  {
   "cell_type": "markdown",
   "id": "557b4bc2-7cbc-402f-bc4b-86a795903896",
   "metadata": {},
   "source": [
    "# Find outliers and removing using Z-Score = x-u/sd"
   ]
  },
  {
   "cell_type": "code",
   "execution_count": 49,
   "id": "6b2ac529-c7e1-41e4-afd1-45cccbe777e5",
   "metadata": {},
   "outputs": [
    {
     "name": "stdout",
     "output_type": "stream",
     "text": [
      "The count of outliers in the DSBDA Column is \n",
      " 0\n",
      "Outlier rows:\n",
      " Empty DataFrame\n",
      "Columns: [Roll No, NationalITy, WT, DSBDA, AI, Average, Grade, PG, dsbda z score, WT z score, AI z score]\n",
      "Index: []\n",
      "number of removed rows :  0\n"
     ]
    }
   ],
   "source": [
    "dataset['dsbda z score'] = (dataset.DSBDA - dataset.DSBDA.mean())/dataset.DSBDA.std()\n",
    "print(\"The count of outliers in the DSBDA Column is \\n\",((dataset['dsbda z score']>3)|dataset['dsbda z score']<-3).sum())\n",
    "\n",
    "outliers =  dataset[(dataset['dsbda z score']> 3) | (dataset['dsbda z score']<-3)]\n",
    "print(\"Outlier rows:\\n\", outliers)\n",
    "\n",
    "no_dsbda_outliers = dataset[(dataset['dsbda z score']<=3) & (dataset['dsbda z score'] >= -3)]\n",
    "\n",
    "print(\"number of removed rows : \",dataset.shape[0] - no_dsbda_outliers.shape[0] )\n"
   ]
  },
  {
   "cell_type": "code",
   "execution_count": 43,
   "id": "79e6c1e2-05f7-40f6-bdcd-1bedc8c29f2f",
   "metadata": {},
   "outputs": [
    {
     "name": "stdout",
     "output_type": "stream",
     "text": [
      "The count of outliers in the WT Column is \n",
      " 1\n",
      "Outlier rows:\n",
      "     Roll No NationalITy    WT  DSBDA    AI  Average Grade   PG  dsbda z score  \\\n",
      "17     18.0      Rassia  18.0   32.0  28.0     26.0     D  Yes      -2.238634   \n",
      "\n",
      "    WT z score  AI z score  \n",
      "17   -3.003828   -2.227894  \n",
      "Number of removed rows :  1\n"
     ]
    }
   ],
   "source": [
    "dataset['WT z score'] = (dataset.WT - dataset.WT.mean())/dataset.WT.std()\n",
    "\n",
    "print(\"The count of outliers in the WT Column is \\n\",((dataset['WT z score']<-3) | (dataset['WT z score']>3)).sum())\n",
    "\n",
    "outliers =  dataset[(dataset['WT z score']> 3) | (dataset['WT z score']<-3)]\n",
    "print(\"Outlier rows:\\n\", outliers)\n",
    "\n",
    "no_WT_outliers= dataset[(dataset['WT z score']<=3) & (dataset['WT z score']>=-3)]\n",
    "(no_WT_outliers.head(5))\n",
    " \n",
    "print(\"Number of removed rows : \",dataset.shape[0]-no_WT_outliers.shape[0])"
   ]
  },
  {
   "cell_type": "code",
   "execution_count": 50,
   "id": "04c67df5-6e09-43aa-aeb1-914e18731c3c",
   "metadata": {},
   "outputs": [
    {
     "name": "stdout",
     "output_type": "stream",
     "text": [
      "The count of outliers in the AI Column is \n",
      " 0\n",
      "Outlier rows:\n",
      " Empty DataFrame\n",
      "Columns: [Roll No, NationalITy, WT, DSBDA, AI, Average, Grade, PG, dsbda z score, WT z score, AI z score]\n",
      "Index: []\n",
      "Number of removed rows :  0\n"
     ]
    }
   ],
   "source": [
    "dataset['AI z score'] = (dataset.AI - dataset.AI.mean())/dataset.AI.std()\n",
    "\n",
    "print(\"The count of outliers in the AI Column is \\n\",((dataset['AI z score']<-3) | (dataset['AI z score']>3)).sum())\n",
    "\n",
    "outliers =  dataset[(dataset['AI z score']> 3) | (dataset['AI z score']<-3)]\n",
    "print(\"Outlier rows:\\n\", outliers)\n",
    "\n",
    "no_AI_outliers= dataset[(dataset['AI z score']<=3) & (dataset['AI z score']>=-3)]\n",
    "(no_AI_outliers.head(5))\n",
    " \n",
    "print(\"Number of removed rows : \",dataset.shape[0]-no_AI_outliers.shape[0])\n"
   ]
  },
  {
   "cell_type": "code",
   "execution_count": 20,
   "id": "0d49dbf1-c7c3-4156-9a4d-5fb4d48d9229",
   "metadata": {},
   "outputs": [
    {
     "name": "stdout",
     "output_type": "stream",
     "text": [
      "The count of outliers in the Average Column is \n",
      " 0\n"
     ]
    }
   ],
   "source": [
    "dataset['Average z score'] = (dataset.Average - dataset.Average.mean())/dataset.Average.std()\n",
    "print(\"The count of outliers in the Average Column is \\n\",(dataset['Average z score']>3).sum())"
   ]
  },
  {
   "cell_type": "code",
   "execution_count": 21,
   "id": "9a9b148e-5788-4c8e-936e-8eb2647834c1",
   "metadata": {},
   "outputs": [
    {
     "data": {
      "text/html": [
       "<div>\n",
       "<style scoped>\n",
       "    .dataframe tbody tr th:only-of-type {\n",
       "        vertical-align: middle;\n",
       "    }\n",
       "\n",
       "    .dataframe tbody tr th {\n",
       "        vertical-align: top;\n",
       "    }\n",
       "\n",
       "    .dataframe thead th {\n",
       "        text-align: right;\n",
       "    }\n",
       "</style>\n",
       "<table border=\"1\" class=\"dataframe\">\n",
       "  <thead>\n",
       "    <tr style=\"text-align: right;\">\n",
       "      <th></th>\n",
       "      <th>Roll No</th>\n",
       "      <th>NationalITy</th>\n",
       "      <th>WT</th>\n",
       "      <th>DSBDA</th>\n",
       "      <th>AI</th>\n",
       "      <th>Average</th>\n",
       "      <th>Grade</th>\n",
       "      <th>PG</th>\n",
       "      <th>dsbda z score</th>\n",
       "      <th>WT z score</th>\n",
       "      <th>AI z score</th>\n",
       "      <th>Average z score</th>\n",
       "    </tr>\n",
       "  </thead>\n",
       "  <tbody>\n",
       "    <tr>\n",
       "      <th>6</th>\n",
       "      <td>7.0</td>\n",
       "      <td>China</td>\n",
       "      <td>88.0</td>\n",
       "      <td>95.0</td>\n",
       "      <td>92.0</td>\n",
       "      <td>91.666667</td>\n",
       "      <td>A</td>\n",
       "      <td>No</td>\n",
       "      <td>2.080587</td>\n",
       "      <td>1.867451</td>\n",
       "      <td>1.936886</td>\n",
       "      <td>2.008241</td>\n",
       "    </tr>\n",
       "  </tbody>\n",
       "</table>\n",
       "</div>"
      ],
      "text/plain": [
       "  Roll No NationalITy    WT  DSBDA    AI    Average Grade  PG  dsbda z score  \\\n",
       "6     7.0       China  88.0   95.0  92.0  91.666667     A  No       2.080587   \n",
       "\n",
       "   WT z score  AI z score  Average z score  \n",
       "6    1.867451    1.936886         2.008241  "
      ]
     },
     "execution_count": 21,
     "metadata": {},
     "output_type": "execute_result"
    }
   ],
   "source": [
    "# get data wit greater than z score \n",
    "dataset[dataset['Average z score']>2]"
   ]
  },
  {
   "cell_type": "code",
   "execution_count": 23,
   "id": "1fee0158-1b67-4cf5-9cd9-f801fbc46aed",
   "metadata": {},
   "outputs": [
    {
     "data": {
      "text/html": [
       "<div>\n",
       "<style scoped>\n",
       "    .dataframe tbody tr th:only-of-type {\n",
       "        vertical-align: middle;\n",
       "    }\n",
       "\n",
       "    .dataframe tbody tr th {\n",
       "        vertical-align: top;\n",
       "    }\n",
       "\n",
       "    .dataframe thead th {\n",
       "        text-align: right;\n",
       "    }\n",
       "</style>\n",
       "<table border=\"1\" class=\"dataframe\">\n",
       "  <thead>\n",
       "    <tr style=\"text-align: right;\">\n",
       "      <th></th>\n",
       "      <th>Roll No</th>\n",
       "      <th>NationalITy</th>\n",
       "      <th>WT</th>\n",
       "      <th>DSBDA</th>\n",
       "      <th>AI</th>\n",
       "      <th>Average</th>\n",
       "      <th>Grade</th>\n",
       "      <th>PG</th>\n",
       "      <th>dsbda z score</th>\n",
       "      <th>WT z score</th>\n",
       "      <th>AI z score</th>\n",
       "      <th>Average z score</th>\n",
       "    </tr>\n",
       "  </thead>\n",
       "  <tbody>\n",
       "    <tr>\n",
       "      <th>0</th>\n",
       "      <td>1.0</td>\n",
       "      <td>India</td>\n",
       "      <td>72.000000</td>\n",
       "      <td>72.000000</td>\n",
       "      <td>74.000000</td>\n",
       "      <td>72.666667</td>\n",
       "      <td>C</td>\n",
       "      <td>Yes</td>\n",
       "      <td>0.503729</td>\n",
       "      <td>7.540160e-01</td>\n",
       "      <td>0.765542</td>\n",
       "      <td>0.852100</td>\n",
       "    </tr>\n",
       "    <tr>\n",
       "      <th>1</th>\n",
       "      <td>2.0</td>\n",
       "      <td>Japan</td>\n",
       "      <td>69.000000</td>\n",
       "      <td>90.000000</td>\n",
       "      <td>62.235955</td>\n",
       "      <td>53.000000</td>\n",
       "      <td>B</td>\n",
       "      <td>No</td>\n",
       "      <td>1.737792</td>\n",
       "      <td>5.452469e-01</td>\n",
       "      <td>0.000000</td>\n",
       "      <td>-0.344607</td>\n",
       "    </tr>\n",
       "    <tr>\n",
       "      <th>2</th>\n",
       "      <td>unknown</td>\n",
       "      <td>USA</td>\n",
       "      <td>61.164835</td>\n",
       "      <td>64.652632</td>\n",
       "      <td>62.235955</td>\n",
       "      <td>58.663265</td>\n",
       "      <td>D</td>\n",
       "      <td>No</td>\n",
       "      <td>0.000000</td>\n",
       "      <td>4.944646e-16</td>\n",
       "      <td>0.000000</td>\n",
       "      <td>0.000000</td>\n",
       "    </tr>\n",
       "    <tr>\n",
       "      <th>3</th>\n",
       "      <td>4.0</td>\n",
       "      <td>China</td>\n",
       "      <td>47.000000</td>\n",
       "      <td>64.652632</td>\n",
       "      <td>44.000000</td>\n",
       "      <td>30.333333</td>\n",
       "      <td>D</td>\n",
       "      <td>Yes</td>\n",
       "      <td>0.000000</td>\n",
       "      <td>-9.857268e-01</td>\n",
       "      <td>-1.186699</td>\n",
       "      <td>-1.723862</td>\n",
       "    </tr>\n",
       "    <tr>\n",
       "      <th>4</th>\n",
       "      <td>5.0</td>\n",
       "      <td>India</td>\n",
       "      <td>76.000000</td>\n",
       "      <td>78.000000</td>\n",
       "      <td>62.235955</td>\n",
       "      <td>51.333333</td>\n",
       "      <td>C</td>\n",
       "      <td>No</td>\n",
       "      <td>0.915083</td>\n",
       "      <td>1.032375e+00</td>\n",
       "      <td>0.000000</td>\n",
       "      <td>-0.446023</td>\n",
       "    </tr>\n",
       "  </tbody>\n",
       "</table>\n",
       "</div>"
      ],
      "text/plain": [
       "   Roll No NationalITy         WT      DSBDA         AI    Average Grade   PG  \\\n",
       "0      1.0       India  72.000000  72.000000  74.000000  72.666667     C  Yes   \n",
       "1      2.0       Japan  69.000000  90.000000  62.235955  53.000000     B   No   \n",
       "2  unknown         USA  61.164835  64.652632  62.235955  58.663265     D   No   \n",
       "3      4.0       China  47.000000  64.652632  44.000000  30.333333     D  Yes   \n",
       "4      5.0       India  76.000000  78.000000  62.235955  51.333333     C   No   \n",
       "\n",
       "   dsbda z score    WT z score  AI z score  Average z score  \n",
       "0       0.503729  7.540160e-01    0.765542         0.852100  \n",
       "1       1.737792  5.452469e-01    0.000000        -0.344607  \n",
       "2       0.000000  4.944646e-16    0.000000         0.000000  \n",
       "3       0.000000 -9.857268e-01   -1.186699        -1.723862  \n",
       "4       0.915083  1.032375e+00    0.000000        -0.446023  "
      ]
     },
     "execution_count": 23,
     "metadata": {},
     "output_type": "execute_result"
    }
   ],
   "source": [
    "dataset.head(5)"
   ]
  },
  {
   "cell_type": "code",
   "execution_count": null,
   "id": "c1952cb9-a872-44a2-b92d-e118588e78c7",
   "metadata": {},
   "outputs": [],
   "source": []
  },
  {
   "cell_type": "markdown",
   "id": "436d20dd-1697-489e-8bc6-010f1eb18a42",
   "metadata": {},
   "source": [
    "# Data Transformation and bins creation and Label"
   ]
  },
  {
   "cell_type": "code",
   "execution_count": 51,
   "id": "ec944920-b12f-49ca-9291-b74ccb3d28d5",
   "metadata": {},
   "outputs": [
    {
     "data": {
      "text/html": [
       "<div>\n",
       "<style scoped>\n",
       "    .dataframe tbody tr th:only-of-type {\n",
       "        vertical-align: middle;\n",
       "    }\n",
       "\n",
       "    .dataframe tbody tr th {\n",
       "        vertical-align: top;\n",
       "    }\n",
       "\n",
       "    .dataframe thead th {\n",
       "        text-align: right;\n",
       "    }\n",
       "</style>\n",
       "<table border=\"1\" class=\"dataframe\">\n",
       "  <thead>\n",
       "    <tr style=\"text-align: right;\">\n",
       "      <th></th>\n",
       "      <th>Average</th>\n",
       "      <th>Average labels</th>\n",
       "    </tr>\n",
       "  </thead>\n",
       "  <tbody>\n",
       "    <tr>\n",
       "      <th>0</th>\n",
       "      <td>72.666667</td>\n",
       "      <td>high</td>\n",
       "    </tr>\n",
       "    <tr>\n",
       "      <th>1</th>\n",
       "      <td>53.000000</td>\n",
       "      <td>medium</td>\n",
       "    </tr>\n",
       "    <tr>\n",
       "      <th>2</th>\n",
       "      <td>58.663265</td>\n",
       "      <td>medium</td>\n",
       "    </tr>\n",
       "    <tr>\n",
       "      <th>3</th>\n",
       "      <td>30.333333</td>\n",
       "      <td>low</td>\n",
       "    </tr>\n",
       "    <tr>\n",
       "      <th>4</th>\n",
       "      <td>51.333333</td>\n",
       "      <td>medium</td>\n",
       "    </tr>\n",
       "    <tr>\n",
       "      <th>...</th>\n",
       "      <td>...</td>\n",
       "      <td>...</td>\n",
       "    </tr>\n",
       "    <tr>\n",
       "      <th>94</th>\n",
       "      <td>26.333333</td>\n",
       "      <td>low</td>\n",
       "    </tr>\n",
       "    <tr>\n",
       "      <th>95</th>\n",
       "      <td>80.333333</td>\n",
       "      <td>high</td>\n",
       "    </tr>\n",
       "    <tr>\n",
       "      <th>96</th>\n",
       "      <td>64.333333</td>\n",
       "      <td>medium</td>\n",
       "    </tr>\n",
       "    <tr>\n",
       "      <th>97</th>\n",
       "      <td>68.333333</td>\n",
       "      <td>medium</td>\n",
       "    </tr>\n",
       "    <tr>\n",
       "      <th>98</th>\n",
       "      <td>41.666667</td>\n",
       "      <td>low</td>\n",
       "    </tr>\n",
       "  </tbody>\n",
       "</table>\n",
       "<p>99 rows × 2 columns</p>\n",
       "</div>"
      ],
      "text/plain": [
       "      Average Average labels\n",
       "0   72.666667           high\n",
       "1   53.000000         medium\n",
       "2   58.663265         medium\n",
       "3   30.333333            low\n",
       "4   51.333333         medium\n",
       "..        ...            ...\n",
       "94  26.333333            low\n",
       "95  80.333333           high\n",
       "96  64.333333         medium\n",
       "97  68.333333         medium\n",
       "98  41.666667            low\n",
       "\n",
       "[99 rows x 2 columns]"
      ]
     },
     "execution_count": 51,
     "metadata": {},
     "output_type": "execute_result"
    }
   ],
   "source": [
    "mybins = [0,50,70,100]\n",
    "mylabels = ['low','medium','high']\n",
    "\n",
    "dataset[\"Average labels\"] = pd.cut(dataset['Average'],bins=mybins,labels=mylabels)\n",
    "\n",
    "dataset[[\"Average\",\"Average labels\"]]"
   ]
  },
  {
   "cell_type": "markdown",
   "id": "7e27688f-b170-45fa-82b8-64c557542605",
   "metadata": {},
   "source": [
    "# Boxplot"
   ]
  },
  {
   "cell_type": "code",
   "execution_count": 58,
   "id": "df391c10-7a24-4e22-9455-79d747a8557d",
   "metadata": {},
   "outputs": [
    {
     "data": {
      "image/png": "[encoded data removed]",
      "text/plain": [
       "<Figure size 640x480 with 1 Axes>"
      ]
     },
     "metadata": {},
     "output_type": "display_data"
    }
   ],
   "source": [
    "# sns.boxplot(dataset['Average'])\n",
    "\n",
    "plt.boxplot(dataset['Average'])\n",
    "plt.title(\"Box Plot of Average Marks\")\n",
    "plt.ylabel(\"Average\")\n",
    "plt.grid()\n",
    "plt.show()"
   ]
  },
  {
   "cell_type": "code",
   "execution_count": null,
   "id": "e54ab7cd-61e4-443b-8c0b-035a48bd5be5",
   "metadata": {},
   "outputs": [],
   "source": []
  },
  {
   "cell_type": "code",
   "execution_count": null,
   "id": "f566dd90-16e8-4429-b3e9-23540a84220d",
   "metadata": {},
   "outputs": [],
   "source": []
  },
  {
   "cell_type": "code",
   "execution_count": null,
   "id": "a7e0eaa4-8eca-413c-8976-270bee894175",
   "metadata": {},
   "outputs": [],
   "source": []
  },
  {
   "cell_type": "code",
   "execution_count": null,
   "id": "7e7824ff-e737-4079-a517-a3e9938937b1",
   "metadata": {},
   "outputs": [],
   "source": []
  }
 ],
 "metadata": {
  "kernelspec": {
   "display_name": "Python 3 (ipykernel)",
   "language": "python",
   "name": "python3"
  },
  "language_info": {
   "codemirror_mode": {
    "name": "ipython",
    "version": 3
   },
   "file_extension": ".py",
   "mimetype": "text/x-python",
   "name": "python",
   "nbconvert_exporter": "python",
   "pygments_lexer": "ipython3",
   "version": "3.12.0"
  }
 },
 "nbformat": 4,
 "nbformat_minor": 5
}
